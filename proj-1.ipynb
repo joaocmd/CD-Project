{
 "cells": [
  {
   "cell_type": "code",
   "execution_count": null,
   "metadata": {},
   "outputs": [],
   "source": [
    "import matplotlib.pyplot as plt\n",
    "import ds_functions as ds\n",
    "import pandas as pd\n",
    "from pandas.plotting import register_matplotlib_converters\n",
    "import seaborn as sns\n",
    "import scipy.stats as _stats\n",
    "import numpy as np\n",
    "import config as cfg\n",
    "import math\n",
    "from matplotlib.ticker import MultipleLocator, FuncFormatter\n",
    "\n",
    "register_matplotlib_converters()"
   ]
  },
  {
   "cell_type": "markdown",
   "metadata": {},
   "source": [
    "# Heart Failure Dataset"
   ]
  },
  {
   "cell_type": "code",
   "execution_count": null,
   "metadata": {},
   "outputs": [],
   "source": [
    "data = pd.read_csv('data/heart_failure_clinical_records_dataset.csv')"
   ]
  },
  {
   "cell_type": "markdown",
   "metadata": {},
   "source": [
    "## Dimensionality"
   ]
  },
  {
   "cell_type": "code",
   "execution_count": null,
   "metadata": {},
   "outputs": [],
   "source": [
    "data"
   ]
  },
  {
   "cell_type": "code",
   "execution_count": null,
   "metadata": {},
   "outputs": [],
   "source": [
    "plt.figure(figsize=(4,2))\n",
    "values = { 'nr_records': data.shape[0], 'nr_variables': data.shape[1]}\n",
    "ds.bar_chart(values.keys(), values.values(), title='Nr of records vs nr of variables')"
   ]
  },
  {
   "cell_type": "code",
   "execution_count": null,
   "metadata": {},
   "outputs": [],
   "source": [
    "data.dtypes"
   ]
  },
  {
   "cell_type": "code",
   "execution_count": null,
   "metadata": {},
   "outputs": [],
   "source": [
    "data['sex'] = data['sex'].astype('category')\n",
    "for c in ['anaemia', 'diabetes', 'high_blood_pressure', 'smoking', 'DEATH_EVENT']:\n",
    "    data[c] = data[c].astype('bool')\n",
    "\n",
    "data['sex'] = data['sex'].map({1: 'Male', 0: 'Female'})\n",
    "\n",
    "data.dtypes"
   ]
  },
  {
   "cell_type": "code",
   "execution_count": null,
   "metadata": {
    "scrolled": true
   },
   "outputs": [],
   "source": [
    "plt.figure()\n",
    "mv = {var: data[var].isna().sum() for var in data}\n",
    "plt.figure(figsize=(10, 2))\n",
    "plt.bar(mv.keys(), mv.values(), edgecolor=cfg.LINE_COLOR, color=cfg.FILL_COLOR)\n",
    "plt.title('Nr of missing values per variable')\n",
    "plt.yticks([0, 1, 2])\n",
    "plt.xticks(rotation=80)\n",
    "\n",
    "mv.values()"
   ]
  },
  {
   "cell_type": "markdown",
   "metadata": {},
   "source": [
    "## Granularity"
   ]
  },
  {
   "cell_type": "code",
   "execution_count": null,
   "metadata": {},
   "outputs": [],
   "source": [
    "values = {'nr records': data.shape[0], 'nr variables': data.shape[1]}\n",
    "data.describe(include=['bool','category','float64','int64'])"
   ]
  },
  {
   "cell_type": "code",
   "execution_count": null,
   "metadata": {
    "scrolled": true,
    "tags": []
   },
   "outputs": [],
   "source": [
    "variables = data.select_dtypes(include=['float64','int64']).columns\n",
    "#rows, cols = ds.choose_grid(len(variables))\n",
    "rows, cols = variables.size, 3\n",
    "fig, axs = plt.subplots(rows, cols, figsize=(cols*ds.HEIGHT, rows*ds.HEIGHT))\n",
    "\n",
    "### Age\n",
    "i = 0\n",
    "bins_step = (1, 5, 10)\n",
    "max_y = (50, 65, 105)\n",
    "for j in range(3):\n",
    "    axs[i,j].hist(data['age'].values, range=[40, 100], bins=np.arange(40, 110, bins_step[j]), edgecolor=cfg.LINE_COLOR, linewidth=0.6)\n",
    "    # axs[i,j].set_ylim(0, 100)\n",
    "    axs[i,j].set_yticks(np.arange(0, max_y[j], 10))\n",
    "    axs[i,j].set_title('Histogram for Age')\n",
    "    axs[i,j].set_xlabel('Age')\n",
    "    axs[i,j].set_ylabel('Number of records')\n",
    "\n",
    "### Creatinine Phosphokinase\n",
    "i = i + 1\n",
    "bins_step = (250, 500, 1000)\n",
    "for j in range(3):\n",
    "    axs[i,j].hist(data['creatinine_phosphokinase'].values, bins=np.arange(0, 8500, bins_step[j]), edgecolor=cfg.LINE_COLOR, linewidth=0.6)\n",
    "    # axs[i,j].set_ylim(0, 100)\n",
    "    # axs[i,j].grid(b=True, which='minor', axis='y', color=\"#f0efeb\")\n",
    "    axs[i,j].set_yscale(\"log\")\n",
    "    axs[i,j].xaxis.set_minor_locator(MultipleLocator(500))\n",
    "    axs[i,j].xaxis.set_major_locator(MultipleLocator(1000))\n",
    "    axs[i,j].tick_params(which='minor', length=5, axis='x')\n",
    "    axs[i,j].tick_params(which='major', length=8, axis='x')\n",
    "    axs[i,j].set_title('Histogram for Creatinine')\n",
    "    axs[i,j].set_xlabel('Creatinine')\n",
    "    axs[i,j].set_ylabel('Number of records')\n",
    "\n",
    "### Ejection Fraction\n",
    "i = i + 1\n",
    "bins_step = (1, 5, 10)\n",
    "max_y = (55, 95, 145)\n",
    "for j in range(3):\n",
    "    axs[i,j].hist(data['ejection_fraction'].values, bins=np.arange(10, 85, bins_step[j]), edgecolor=cfg.LINE_COLOR, linewidth=0.6)\n",
    "    axs[i,j].xaxis.set_minor_locator(MultipleLocator(5))\n",
    "    axs[i,j].set_yticks(np.arange(0, max_y[j], 10))\n",
    "    axs[i,j].tick_params(which='minor', length=5, axis='x')\n",
    "    axs[i,j].tick_params(which='major', length=8, axis='x')\n",
    "    axs[i,j].set_title('Histogram for Ejection Fraction')\n",
    "    axs[i,j].set_xlabel('Ejection Fraction')\n",
    "    axs[i,j].set_ylabel('Number of records')\n",
    "\n",
    "### Platelets\n",
    "i = i + 1\n",
    "bins_step =  (25000, 50000, 100000)\n",
    "max_y = (65, 95, 165)\n",
    "for j in range(3):\n",
    "    axs[i,j].hist(data['platelets'].values, bins=np.arange(0, 950000, bins_step[j]), edgecolor=cfg.LINE_COLOR, linewidth=0.6)\n",
    "    axs[i,j].set_yticks(np.arange(0, max_y[j], 10))\n",
    "    axs[i,j].get_xaxis().set_major_formatter(FuncFormatter(lambda x, p: format(int(x/1000), ',')))\n",
    "    axs[i,j].xaxis.set_minor_locator(MultipleLocator(50000))\n",
    "    axs[i,j].xaxis.set_major_locator(MultipleLocator(100000))\n",
    "    axs[i,j].tick_params(which='minor', length=5, axis='x')\n",
    "    axs[i,j].tick_params(which='major', length=8, axis='x')\n",
    "    axs[i,j].set_title('Histogram for Platelets')\n",
    "    axs[i,j].set_xlabel('Thousands of Platelets')\n",
    "    axs[i,j].set_ylabel('Number of records')\n",
    "\n",
    "### serum_creatinine\n",
    "i = i + 1\n",
    "bins_step = (0.1, 0.5, 1)\n",
    "max_y = (85, 165, 195)\n",
    "for j in range(3):\n",
    "    axs[i,j].hist(data['serum_creatinine'].values, bins=np.arange(0, 10, bins_step[j]), edgecolor=cfg.LINE_COLOR, linewidth=0.6)\n",
    "    axs[i,j].set_yticks(np.arange(0, max_y[j], 20))\n",
    "    axs[i,j].set_xticks(np.arange(0, 11, 0.5))\n",
    "    # axs[i,j].set_xticks(np.arange(0, 305, 100))\n",
    "    # axs[i,j].get_xaxis().set_major_formatter(FuncFormatter(lambda x, p: format(int(x/1000), ',')))\n",
    "    axs[i,j].xaxis.set_major_locator(MultipleLocator(1))\n",
    "    axs[i,j].xaxis.set_minor_locator(MultipleLocator(0.5))\n",
    "    axs[i,j].tick_params(which='minor', length=5, axis='x')\n",
    "    axs[i,j].tick_params(which='major', length=8, axis='x')\n",
    "    axs[i,j].set_title('Histogram for Serum Creatinine')\n",
    "    axs[i,j].set_xlabel('Serum Creatinine')\n",
    "    axs[i,j].set_ylabel('Number of records')\n",
    "\n",
    "### serum_sodium\n",
    "i = i + 1\n",
    "bins_step = (1, 2.5, 5)\n",
    "max_y = (45, 105, 155)\n",
    "for j in range(3):\n",
    "    axs[i,j].hist(data['serum_sodium'].values, bins=np.arange(110, 155, bins_step[j]), edgecolor=cfg.LINE_COLOR, linewidth=0.6)\n",
    "    axs[i,j].set_yticks(np.arange(0, max_y[j], 10))\n",
    "    # axs[i,j].get_xaxis().set_major_formatter(FuncFormatter(lambda x, p: format(int(x/1000), ',')))\n",
    "    axs[i,j].xaxis.set_minor_locator(MultipleLocator(2.5))\n",
    "    axs[i,j].tick_params(which='minor', length=5, axis='x')\n",
    "    axs[i,j].tick_params(which='major', length=8, axis='x')\n",
    "    axs[i,j].set_title('Histogram for Serum Sodium')\n",
    "    axs[i,j].set_xlabel('Serum Sodium')\n",
    "    axs[i,j].set_ylabel('Number of records')\n",
    "\n",
    "### time\n",
    "i = i + 1\n",
    "bins_step = (10, 20, 40)\n",
    "max_y = (25, 45, 75)\n",
    "for j in range(3):\n",
    "    axs[i,j].hist(data['time'].values, bins=np.arange(0, 305, bins_step[j]), edgecolor=cfg.LINE_COLOR, linewidth=0.6)\n",
    "    axs[i,j].set_xticks(np.arange(0, 305, 100))\n",
    "    axs[i,j].set_yticks(np.arange(0, max_y[j], 10))\n",
    "    # axs[i,j].get_xaxis().set_major_formatter(FuncFormatter(lambda x, p: format(int(x/1000), ',')))\n",
    "    axs[i,j].xaxis.set_minor_locator(MultipleLocator(20))\n",
    "    axs[i,j].yaxis.set_minor_locator(MultipleLocator(5))\n",
    "    axs[i,j].tick_params(which='minor', length=5, axis='x')\n",
    "    axs[i,j].tick_params(which='major', length=8, axis='x')\n",
    "    axs[i,j].set_title('Histogram for Time')\n",
    "    axs[i,j].set_xlabel('Time')\n",
    "    axs[i,j].set_ylabel('Number of records')\n",
    "\n",
    "plt.tight_layout()\n",
    "\n"
   ]
  },
  {
   "cell_type": "markdown",
   "metadata": {},
   "source": [
    "# Distribution"
   ]
  },
  {
   "cell_type": "code",
   "execution_count": null,
   "metadata": {},
   "outputs": [],
   "source": [
    "data.describe()"
   ]
  },
  {
   "cell_type": "code",
   "execution_count": null,
   "metadata": {
    "tags": []
   },
   "outputs": [],
   "source": [
    "numeric_vars = data.select_dtypes(include=['float64','int64']).columns\n",
    "rows, cols = ds.choose_grid(len(numeric_vars))\n",
    "fig, axs = plt.subplots(rows, cols, figsize=(cols*ds.HEIGHT, rows*ds.HEIGHT))\n",
    "i, j = 0, 0\n",
    "for n in range(len(numeric_vars)):\n",
    "    new_var_name = numeric_vars[n].replace(\"_\", \" \").title()\n",
    "    axs[i, j].set_title(f'Boxplot for {new_var_name}')\n",
    "    axs[i, j].boxplot(data[numeric_vars[n]].dropna().values)\n",
    "    i, j = (i + 1, 0) if (n+1) % cols == 0 else (i, j + 1)\n",
    "\n",
    "while n <= len(numeric_vars):\n",
    "    axs[i, j].axis('off')\n",
    "    n = n + 1\n",
    "    i, j = (i + 1, 0) if n % cols == 0 else (i, j + 1)\n",
    "\n",
    "plt.show()"
   ]
  },
  {
   "cell_type": "code",
   "execution_count": null,
   "metadata": {
    "tags": []
   },
   "outputs": [],
   "source": [
    "fig, axs = plt.subplots(rows, cols, figsize=(cols*ds.HEIGHT, rows*ds.HEIGHT))\n",
    "i, j = 0, 0\n",
    "\n",
    "for n in range(len(numeric_vars)):\n",
    "    new_data = data[numeric_vars[n]].dropna()\n",
    "    ds.histogram_with_distributions(axs[i, j], new_data, numeric_vars[n].replace(\"_\", \" \").title())\n",
    "\n",
    "    # Fix plot ticks\n",
    "    min, max, interval = 0, 0, 0\n",
    "    if numeric_vars[n] == \"age\":\n",
    "        min = int(new_data.min())\n",
    "        max = int(new_data.max())\n",
    "        interval = 10\n",
    "    elif numeric_vars[n] == \"creatinine_phosphokinase\":\n",
    "        max = 8000\n",
    "        interval = 1000\n",
    "    elif numeric_vars[n] == \"ejection_fraction\":\n",
    "        min = 10\n",
    "        max = 80\n",
    "        interval = 10\n",
    "    elif numeric_vars[n] == \"platelets\":\n",
    "        max = 850000\n",
    "        interval = 200000\n",
    "    elif numeric_vars[n] == \"serum_creatinine\":\n",
    "        max = 10\n",
    "        interval = 1\n",
    "    elif numeric_vars[n] == \"serum_sodium\":\n",
    "        min = 100\n",
    "        max = 150\n",
    "        interval = 10\n",
    "    else:\n",
    "        max = 300\n",
    "        interval = 50\n",
    "\n",
    "    tick_list = list(range(min, max, interval))\n",
    "    axs[i, j].set_xticks(tick_list)\n",
    "    axs[i, j].set_xticklabels(tick_list)\n",
    "    \n",
    "    i, j = (i + 1, 0) if (n+1) % cols == 0 else (i, j + 1)\n",
    "\n",
    "while n <= len(numeric_vars):\n",
    "    axs[i, j].axis('off')\n",
    "    n = n + 1\n",
    "    i, j = (i + 1, 0) if n % cols == 0 else (i, j + 1)\n",
    "\n",
    "plt.show()"
   ]
  },
  {
   "cell_type": "code",
   "execution_count": null,
   "metadata": {
    "tags": []
   },
   "outputs": [],
   "source": [
    "data.describe(include=['bool','category'])"
   ]
  },
  {
   "cell_type": "code",
   "execution_count": null,
   "metadata": {
    "tags": []
   },
   "outputs": [],
   "source": [
    "symbolic_vars = data.select_dtypes(include=['bool','category']).columns\n",
    "for v in symbolic_vars:\n",
    "    print(v, data[v].unique())"
   ]
  },
  {
   "cell_type": "code",
   "execution_count": null,
   "metadata": {
    "tags": []
   },
   "outputs": [],
   "source": [
    "rows, cols = ds.choose_grid(len(symbolic_vars))\n",
    "fig, axs = plt.subplots(rows, cols, figsize=(cols*ds.HEIGHT, rows*ds.HEIGHT), squeeze=False)\n",
    "i, j = 0, 0\n",
    "\n",
    "for n in range(len(symbolic_vars)):\n",
    "    counts = data[symbolic_vars[n]].value_counts()\n",
    "    counts_list = counts.index.to_list()\n",
    "\n",
    "    if data[symbolic_vars[n]].dtype == np.bool:\n",
    "        counts_list = list(map(lambda x: str(x), counts_list))\n",
    "    \n",
    "    new_var_name = symbolic_vars[n].replace(\"_\", \" \").title()\n",
    "    graph_title = f'Histogram for {new_var_name}'\n",
    "    ds.bar_chart(counts_list, counts.values, ax=axs[i, j], title=graph_title,\n",
    "                 xlabel=new_var_name, ylabel='nr records')\n",
    "\n",
    "    i, j = (i + 1, 0) if (n+1) % cols == 0 else (i, j + 1)\n",
    "\n",
    "plt.show()"
   ]
  },
  {
   "cell_type": "markdown",
   "metadata": {},
   "source": [
    "# Toxicity Dataset"
   ]
  },
  {
   "cell_type": "code",
   "execution_count": null,
   "metadata": {},
   "outputs": [],
   "source": [
    "data2 = pd.read_csv('data/qsar_oral_toxicity.csv', sep=';', header=None)"
   ]
  },
  {
   "cell_type": "markdown",
   "metadata": {},
   "source": [
    "## Dimensionality"
   ]
  },
  {
   "cell_type": "code",
   "execution_count": null,
   "metadata": {},
   "outputs": [],
   "source": [
    "data2"
   ]
  },
  {
   "cell_type": "code",
   "execution_count": null,
   "metadata": {},
   "outputs": [],
   "source": [
    "plt.figure(figsize=(4,2))\n",
    "values = { 'nr_records': data2.shape[0], 'nr_variables': data2.shape[1]}\n",
    "ds.bar_chart(values.keys(), values.values(), title='Nr of records vs nr of variables')"
   ]
  },
  {
   "cell_type": "code",
   "execution_count": null,
   "metadata": {},
   "outputs": [],
   "source": [
    "data2.dtypes"
   ]
  },
  {
   "cell_type": "code",
   "execution_count": null,
   "metadata": {},
   "outputs": [],
   "source": [
    "## Should we? YES\n",
    "for c in data2.columns[:-1]:\n",
    "    data2[c] = data2[c].astype('bool')\n",
    "data2[data2.columns[-1]] = data2[data2.columns[-1]].astype('category')\n",
    "data2.rename(columns={1024: 'toxic'}, inplace=True)\n",
    "data2.dtypes"
   ]
  },
  {
   "cell_type": "code",
   "execution_count": null,
   "metadata": {
    "scrolled": true
   },
   "outputs": [],
   "source": [
    "plt.figure()\n",
    "mv = {str(var): data2[var].isna().sum() for var in data2 if data2[var].isna().sum() > 0}\n",
    "plt.figure(figsize=(10, 2))\n",
    "plt.bar(mv.keys(), mv.values(), edgecolor=cfg.LINE_COLOR, color=cfg.FILL_COLOR)\n",
    "plt.title('Nr of missing values per variable')\n",
    "plt.yticks([0, 1, 2])\n",
    "plt.xticks(rotation=80)\n",
    "plt.show()"
   ]
  },
  {
   "cell_type": "markdown",
   "metadata": {},
   "source": [
    "## Granularity"
   ]
  },
  {
   "cell_type": "markdown",
   "metadata": {},
   "source": [
    "## Distribution"
   ]
  },
  {
   "cell_type": "code",
   "execution_count": null,
   "metadata": {},
   "outputs": [],
   "source": [
    "data2.describe()"
   ]
  },
  {
   "cell_type": "code",
   "execution_count": null,
   "metadata": {},
   "outputs": [],
   "source": [
    "data2.describe(include=['bool','category'])"
   ]
  },
  {
   "cell_type": "code",
   "execution_count": null,
   "metadata": {
    "tags": []
   },
   "outputs": [],
   "source": [
    "symbolic_vars_toxic = data2.select_dtypes(include=['bool','category']).columns\n",
    "rows = math.ceil(len(symbolic_vars_toxic)/2)\n",
    "fig, axs = plt.subplots(rows, rows, figsize=(rows, rows), squeeze=False)\n",
    "i, j = 0, 0\n",
    "\n",
    "for n in range(len(symbolic_vars_toxic)):\n",
    "    counts = data2[symbolic_vars_toxic[n]].value_counts()\n",
    "    counts_list = counts.index.to_list()\n",
    "\n",
    "    if data2[symbolic_vars_toxic[n]].dtype == np.bool:\n",
    "        counts_list = list(map(lambda x: \"1\" if x else \"0\", counts_list))\n",
    "    \n",
    "    new_var_name = str(symbolic_vars_toxic[n])\n",
    "    graph_title = f'Histogram {new_var_name}'\n",
    "    ds.bar_chart(counts_list, counts.values, ax=axs[i, j], title=graph_title,\n",
    "                 xlabel=new_var_name, ylabel='nr records')\n",
    "\n",
    "    i, j = (i + 1, 0) if (n+1) % rows == 0 else (i, j + 1)\n",
    "\n",
    "plt.tight_layout()\n",
    "plt.show()"
   ]
  },
  {
   "cell_type": "code",
   "execution_count": null,
   "metadata": {},
   "outputs": [],
   "source": []
  }
 ],
 "metadata": {
  "kernelspec": {
   "display_name": "Python 3",
   "language": "python",
   "name": "python3"
  },
  "language_info": {
   "codemirror_mode": {
    "name": "ipython",
    "version": 3
   },
   "file_extension": ".py",
   "mimetype": "text/x-python",
   "name": "python",
   "nbconvert_exporter": "python",
   "pygments_lexer": "ipython3",
   "version": "3.6.9"
  }
 },
 "nbformat": 4,
 "nbformat_minor": 4
}
