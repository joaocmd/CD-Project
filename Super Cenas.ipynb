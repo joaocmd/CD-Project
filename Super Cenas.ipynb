{
 "cells": [
  {
   "cell_type": "code",
   "execution_count": 1,
   "metadata": {},
   "outputs": [],
   "source": [
    "import pandas as pd\n",
    "from pandas.plotting import register_matplotlib_converters\n",
    "from sklearn.preprocessing import StandardScaler, MinMaxScaler\n",
    "from imblearn.over_sampling import SMOTE\n",
    "\n",
    "from sklearn.model_selection import train_test_split, StratifiedKFold, LeaveOneOut\n",
    "import sklearn.metrics as metrics\n",
    "from sklearn.tree import DecisionTreeClassifier\n",
    "\n",
    "import ds_functions as ds\n",
    "import statistics \n",
    "\n",
    "register_matplotlib_converters()\n",
    "\n",
    "# Heart failure data\n",
    "hf_data = pd.read_csv('data/heart_failure_clinical_records_dataset.csv')\n",
    "hf_data_raw = hf_data.copy()\n",
    "\n",
    "hf_data['sex'] = hf_data['sex'].astype('category')\n",
    "for c in ['anaemia', 'diabetes', 'high_blood_pressure', 'smoking', 'DEATH_EVENT']:\n",
    "    hf_data[c] = hf_data[c].astype('bool')\n",
    "\n",
    "hf_data['sex'] = hf_data['sex'].map({1: 'Male', 0: 'Female'})\n",
    "\n",
    "# Toxicity data\n",
    "t_data = pd.read_csv('data/qsar_oral_toxicity.csv', sep=';', header=None)\n",
    "t_data.rename(columns={1024: 'toxic'}, inplace=True)\n",
    "t_data_raw = t_data.copy()\n",
    "\n",
    "for c in t_data.columns[:-1]:\n",
    "    t_data[c] = t_data[c].astype('bool')\n",
    "t_data[t_data.columns[-1]] = t_data[t_data.columns[-1]].astype('category')\n",
    "t_data['toxic'].replace({'positive': True, 'negative': False}, inplace=True)\n",
    "\n",
    "def get_hf_data(filter_outliers=False, feature_selection=False, scaling=\"none\"):\n",
    "    data = hf_data_raw.copy()\n",
    "    if (filter_outliers):\n",
    "        # creatinine_phosphokinase, outliers above 3000\n",
    "        data = data[data[\"creatinine_phosphokinase\"] <= 3000]\n",
    "\n",
    "        # serum_creatinine, outliers above 4\n",
    "        data = data[data[\"serum_creatinine\"] <= 4]\n",
    "\n",
    "        # platelets, outliers above 600000\n",
    "        data = data[data[\"platelets\"] <= 600000]\n",
    "        \n",
    "    if (feature_selection):\n",
    "        data = data.drop(columns=['time'])\n",
    "        \n",
    "    df_nr = None\n",
    "    df_sb = None\n",
    "    if (scaling != \"none\"):\n",
    "        df_nr = pd.DataFrame(data, columns=data.select_dtypes(include=['float64','int64']).columns) \n",
    "        df_sb = pd.DataFrame(data, columns=data.select_dtypes(include=['bool']).columns)\n",
    "        \n",
    "    if (scaling == \"z-score\"):\n",
    "        transf = StandardScaler(with_mean=True, with_std=True, copy=True).fit(df_nr)\n",
    "        norm_data_zscore = pd.DataFrame(transf.transform(df_nr), columns=df_nr.columns)\n",
    "        data = norm_data_zscore.join(df_sb, how='inner')\n",
    "        \n",
    "    if (scaling == \"minmax\"):\n",
    "        transf = MinMaxScaler(feature_range=(0, 1), copy=True).fit(df_nr)\n",
    "        norm_data_minmax = pd.DataFrame(transf.transform(df_nr), columns= df_nr.columns)\n",
    "        data = norm_data_minmax.join(df_sb, how='inner')\n",
    " \n",
    "    return data\n",
    "\n",
    "\n",
    "def get_t_data(feature_selection=False):\n",
    "    data = t_data_raw.copy()\n",
    "    \n",
    "    def get_redundant_pairs(df):\n",
    "        cols_to_drop = set()\n",
    "        for i in range(0, df.shape[1]-1):\n",
    "            if i in cols_to_drop:\n",
    "                continue\n",
    "            for j in range(i+1, df.shape[1]-1):\n",
    "                if df[i][j] > 0.85:\n",
    "                    cols_to_drop.add(j)\n",
    "\n",
    "            return list(cols_to_drop)\n",
    "\n",
    "    def remove_redundant_variables(df):\n",
    "        au_corr = df.corr().abs()\n",
    "        labels_to_drop = get_redundant_pairs(au_corr)\n",
    "        return df.copy().drop(columns=labels_to_drop)\n",
    "\n",
    "    if (feature_selection):\n",
    "        data = remove_redundant_variables(data)\n",
    "        \n",
    "    return data"
   ]
  },
  {
   "cell_type": "code",
   "execution_count": 28,
   "metadata": {},
   "outputs": [],
   "source": [
    "def KFold(X, y, nfolds, try_params, seed=None):\n",
    "    skf = StratifiedKFold(n_splits=nfolds, random_state=seed)\n",
    "\n",
    "    opts=()\n",
    "    accuracy = 0\n",
    "    for train_index, test_index in skf.split(X, y):\n",
    "        X_train, X_test = X[train_index], X[test_index]\n",
    "        y_train, y_test = y[train_index], y[test_index]\n",
    "        \n",
    "        scores = [try_params(X_train, X_test, y_train, y_test)]\n",
    "    \n",
    "    avg = calculate_avg_results(scores)\n",
    "    return avg\n",
    "\n",
    "def calculate_avg_results(results):\n",
    "    metrics = ['Accuracy', 'Recall', 'Specificity', 'Precision']\n",
    "    res = {}\n",
    "    for metric in metrics:\n",
    "        for params in results[0]:\n",
    "            if params not in res:\n",
    "                res[params] = {}\n",
    "            res[params][metric] = [statistics.mean([fold[params][metric][0] for fold in results]), \n",
    "                          statistics.mean([fold[params][metric][1] for fold in results])]\n",
    "    #print(res)\n",
    "    return res\n",
    "    \n",
    "    \n",
    "\n",
    "def DecisionTreeTryParams(X_train, X_test, y_train, y_test):\n",
    "    min_impurity_decrease = [0.025, 0.01, 0.005, 0.0025, 0.001]\n",
    "    max_depths = [2, 5, 10, 15, 20, 25]\n",
    "    criteria = ['entropy', 'gini']\n",
    "\n",
    "    results = {}\n",
    "    for k in range(len(criteria)):\n",
    "        f = criteria[k]\n",
    "        for d in max_depths:\n",
    "            for imp in min_impurity_decrease:\n",
    "                tree = DecisionTreeClassifier(max_depth=d, criterion=f, min_impurity_decrease=imp)\n",
    "                tree.fit(X_train, y_train)\n",
    "                prd_trn = tree.predict(X_train)\n",
    "                prd_tst = tree.predict(X_test)\n",
    "\n",
    "                results[(f, d, imp)] = ds.calc_evaluations_results(pd.unique(y), y_train, prd_trn, y_test, prd_tst)\n",
    "\n",
    "    return results"
   ]
  },
  {
   "cell_type": "code",
   "execution_count": 33,
   "metadata": {
    "scrolled": false
   },
   "outputs": [
    {
     "name": "stdout",
     "output_type": "stream",
     "text": [
      "('entropy', 5, 0.0025): {'Accuracy': [0.9541666666666667, 0.711864406779661], 'Recall': [0.9877300613496932, 1.0], 'Specificity': [0.8831168831168831, 0.10526315789473684], 'Precision': [0.9470588235294117, 0.7017543859649122]}\n"
     ]
    }
   ],
   "source": [
    "import numpy as np\n",
    "\n",
    "df = get_hf_data()\n",
    "y: np.ndarray = df.pop('DEATH_EVENT').values\n",
    "X: np.ndarray = df.values\n",
    "labels = pd.unique(y)\n",
    "results = KFold(X, y, 5, DecisionTreeTryParams)\n",
    "best = [params for params in results if \n",
    "        all(results[params]['Accuracy'][1] >= results[x]['Accuracy'][1] for x in results)][0]\n",
    "\n",
    "print(f'{best}: {results[best]}')"
   ]
  },
  {
   "cell_type": "code",
   "execution_count": 1,
   "metadata": {
    "scrolled": true
   },
   "outputs": [
    {
     "ename": "TypeError",
     "evalue": "'AxesSubplot' object does not support indexing",
     "output_type": "error",
     "traceback": [
      "\u001b[0;31m---------------------------------------------------------------------------\u001b[0m",
      "\u001b[0;31mTypeError\u001b[0m                                 Traceback (most recent call last)",
      "\u001b[0;32m<ipython-input-1-72b0ec4bad13>\u001b[0m in \u001b[0;36m<module>\u001b[0;34m\u001b[0m\n\u001b[1;32m      2\u001b[0m \u001b[0;32mfrom\u001b[0m \u001b[0mdata\u001b[0m \u001b[0;32mimport\u001b[0m \u001b[0;34m*\u001b[0m\u001b[0;34m\u001b[0m\u001b[0;34m\u001b[0m\u001b[0m\n\u001b[1;32m      3\u001b[0m \u001b[0;34m\u001b[0m\u001b[0m\n\u001b[0;32m----> 4\u001b[0;31m \u001b[0mDecisionTreesKFold\u001b[0m\u001b[0;34m(\u001b[0m\u001b[0mget_hf_data\u001b[0m\u001b[0;34m(\u001b[0m\u001b[0;34m)\u001b[0m\u001b[0;34m,\u001b[0m \u001b[0;34m'DEATH_EVENT'\u001b[0m\u001b[0;34m,\u001b[0m \u001b[0mbalancing\u001b[0m\u001b[0;34m=\u001b[0m\u001b[0;32mNone\u001b[0m\u001b[0;34m)\u001b[0m\u001b[0;34m\u001b[0m\u001b[0;34m\u001b[0m\u001b[0m\n\u001b[0m",
      "\u001b[0;32m~/Documents/CD-Project/strategiesavg.py\u001b[0m in \u001b[0;36mDecisionTreesKFold\u001b[0;34m(data, target, balancing)\u001b[0m\n\u001b[1;32m     78\u001b[0m \u001b[0;34m\u001b[0m\u001b[0m\n\u001b[1;32m     79\u001b[0m     \u001b[0mfig\u001b[0m\u001b[0;34m,\u001b[0m \u001b[0maxs\u001b[0m \u001b[0;34m=\u001b[0m \u001b[0mplt\u001b[0m\u001b[0;34m.\u001b[0m\u001b[0msubplots\u001b[0m\u001b[0;34m(\u001b[0m\u001b[0;36m1\u001b[0m\u001b[0;34m,\u001b[0m \u001b[0;36m1\u001b[0m\u001b[0;34m,\u001b[0m \u001b[0mfigsize\u001b[0m\u001b[0;34m=\u001b[0m\u001b[0;34m(\u001b[0m\u001b[0;36m2\u001b[0m \u001b[0;34m*\u001b[0m \u001b[0;36m4\u001b[0m\u001b[0;34m,\u001b[0m \u001b[0;36m4\u001b[0m\u001b[0;34m)\u001b[0m\u001b[0;34m)\u001b[0m\u001b[0;34m\u001b[0m\u001b[0;34m\u001b[0m\u001b[0m\n\u001b[0;32m---> 80\u001b[0;31m     \u001b[0mmultiple_bar_chart\u001b[0m\u001b[0;34m(\u001b[0m\u001b[0;34m[\u001b[0m\u001b[0;34m'Train'\u001b[0m\u001b[0;34m,\u001b[0m \u001b[0;34m'Test'\u001b[0m\u001b[0;34m]\u001b[0m\u001b[0;34m,\u001b[0m \u001b[0mresults\u001b[0m\u001b[0;34m[\u001b[0m\u001b[0mbest\u001b[0m\u001b[0;34m]\u001b[0m\u001b[0;34m,\u001b[0m \u001b[0max\u001b[0m\u001b[0;34m=\u001b[0m\u001b[0maxs\u001b[0m\u001b[0;34m[\u001b[0m\u001b[0;36m0\u001b[0m\u001b[0;34m]\u001b[0m\u001b[0;34m,\u001b[0m \u001b[0mtitle\u001b[0m\u001b[0;34m=\u001b[0m\u001b[0;34m\"Model's performance over Train and Test sets\"\u001b[0m\u001b[0;34m)\u001b[0m\u001b[0;34m\u001b[0m\u001b[0;34m\u001b[0m\u001b[0m\n\u001b[0m\u001b[1;32m     81\u001b[0m     \u001b[0;32mreturn\u001b[0m \u001b[0;34m(\u001b[0m\u001b[0mbest\u001b[0m\u001b[0;34m,\u001b[0m \u001b[0mresults\u001b[0m\u001b[0;34m[\u001b[0m\u001b[0mbest\u001b[0m\u001b[0;34m]\u001b[0m\u001b[0;34m)\u001b[0m\u001b[0;34m\u001b[0m\u001b[0;34m\u001b[0m\u001b[0m\n\u001b[1;32m     82\u001b[0m \u001b[0;34m\u001b[0m\u001b[0m\n",
      "\u001b[0;31mTypeError\u001b[0m: 'AxesSubplot' object does not support indexing"
     ]
    },
    {
     "data": {
      "image/png": "[encoded data removed]",
      "text/plain": [
       "<Figure size 1200x600 with 1 Axes>"
      ]
     },
     "metadata": {
      "needs_background": "dark"
     },
     "output_type": "display_data"
    }
   ],
   "source": [
    "from strategiesavg import *\n",
    "from data import *\n",
    "\n",
    "DecisionTreesKFold(get_hf_data(), 'DEATH_EVENT', balancing=None)\n"
   ]
  }
 ],
 "metadata": {
  "kernelspec": {
   "display_name": "Python 3",
   "language": "python",
   "name": "python3"
  },
  "language_info": {
   "codemirror_mode": {
    "name": "ipython",
    "version": 3
   },
   "file_extension": ".py",
   "mimetype": "text/x-python",
   "name": "python",
   "nbconvert_exporter": "python",
   "pygments_lexer": "ipython3",
   "version": "3.6.9"
  }
 },
 "nbformat": 4,
 "nbformat_minor": 2
}
